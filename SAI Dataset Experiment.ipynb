{
 "cells": [
  {
   "cell_type": "markdown",
   "id": "b0d50444",
   "metadata": {},
   "source": [
    "## Decision Tree"
   ]
  },
  {
   "cell_type": "code",
   "execution_count": 1,
   "id": "d5749b58",
   "metadata": {},
   "outputs": [
    {
     "name": "stderr",
     "output_type": "stream",
     "text": [
      "C:\\Users\\VIPLab\\anaconda3\\envs\\pytorch_gpu\\lib\\site-packages\\scipy\\__init__.py:146: UserWarning: A NumPy version >=1.16.5 and <1.23.0 is required for this version of SciPy (detected version 1.23.3\n",
      "  warnings.warn(f\"A NumPy version >={np_minversion} and <{np_maxversion}\"\n"
     ]
    }
   ],
   "source": [
    "# Importing the required packages and libraries\n",
    "import pandas as pd\n",
    "import numpy as np\n",
    "from sklearn.feature_extraction.text import CountVectorizer\n",
    "from sklearn.naive_bayes import MultinomialNB\n",
    "from sklearn.pipeline import Pipeline\n",
    "from sklearn.metrics import accuracy_score\n",
    "from sklearn.model_selection import train_test_split\n",
    "from sklearn.tree import DecisionTreeClassifier"
   ]
  },
  {
   "cell_type": "code",
   "execution_count": 2,
   "id": "4fd9b162",
   "metadata": {},
   "outputs": [
    {
     "data": {
      "text/html": [
       "<div>\n",
       "<style scoped>\n",
       "    .dataframe tbody tr th:only-of-type {\n",
       "        vertical-align: middle;\n",
       "    }\n",
       "\n",
       "    .dataframe tbody tr th {\n",
       "        vertical-align: top;\n",
       "    }\n",
       "\n",
       "    .dataframe thead th {\n",
       "        text-align: right;\n",
       "    }\n",
       "</style>\n",
       "<table border=\"1\" class=\"dataframe\">\n",
       "  <thead>\n",
       "    <tr style=\"text-align: right;\">\n",
       "      <th></th>\n",
       "      <th>id</th>\n",
       "      <th>text</th>\n",
       "    </tr>\n",
       "  </thead>\n",
       "  <tbody>\n",
       "    <tr>\n",
       "      <th>0</th>\n",
       "      <td>id02310</td>\n",
       "      <td>Still, as I urged our leaving Ireland with suc...</td>\n",
       "    </tr>\n",
       "    <tr>\n",
       "      <th>1</th>\n",
       "      <td>id24541</td>\n",
       "      <td>If a fire wanted fanning, it could readily be ...</td>\n",
       "    </tr>\n",
       "    <tr>\n",
       "      <th>2</th>\n",
       "      <td>id00134</td>\n",
       "      <td>And when they had broken down the frail door t...</td>\n",
       "    </tr>\n",
       "    <tr>\n",
       "      <th>3</th>\n",
       "      <td>id27757</td>\n",
       "      <td>While I was thinking how I should possibly man...</td>\n",
       "    </tr>\n",
       "    <tr>\n",
       "      <th>4</th>\n",
       "      <td>id04081</td>\n",
       "      <td>I am not sure to what limit his knowledge may ...</td>\n",
       "    </tr>\n",
       "  </tbody>\n",
       "</table>\n",
       "</div>"
      ],
      "text/plain": [
       "        id                                               text\n",
       "0  id02310  Still, as I urged our leaving Ireland with suc...\n",
       "1  id24541  If a fire wanted fanning, it could readily be ...\n",
       "2  id00134  And when they had broken down the frail door t...\n",
       "3  id27757  While I was thinking how I should possibly man...\n",
       "4  id04081  I am not sure to what limit his knowledge may ..."
      ]
     },
     "execution_count": 2,
     "metadata": {},
     "output_type": "execute_result"
    }
   ],
   "source": [
    "# Reading test CSV file directly from Web, and store it in a pandas DataFrame:\n",
    "test_df=pd.read_csv(\"D:/Fauzan/Study PhD/Semester 1/Machine Learning/Homework/HW4/spooky-author-identification/spooky-author-identification/test/test.csv\")\n",
    "\n",
    "# Print first 5 rows\n",
    "test_df.head()"
   ]
  },
  {
   "cell_type": "code",
   "execution_count": 19,
   "id": "0282408d",
   "metadata": {},
   "outputs": [
    {
     "data": {
      "text/plain": [
       "id       text                                                                                                                                                                                                         \n",
       "id00008  And then there was 'The Man in the Bell,' a paper by the by, Miss Zenobia, which I cannot sufficiently recommend to your attention.                                                                              1\n",
       "id18869  \"Good God\" I whispered, \"can you do that for any time?\"                                                                                                                                                          1\n",
       "id18864  \"While I improved in speech, I also learned the science of letters as it was taught to the stranger, and this opened before me a wide field for wonder and delight.                                              1\n",
       "id18863  It is possible indeed it is far more than probable that he was innocent of all participation in the bloody transactions which took place.                                                                        1\n",
       "id18862  The result was, that he would make one more attempt to reclaim him, and in case of ill success, cast him off for ever.                                                                                           1\n",
       "                                                                                                                                                                                                                         ..\n",
       "id09468  Realising he was about to hang himself, I started forward to dissuade or save him.                                                                                                                               1\n",
       "id09467  But I fear, from what you have yourself described to be his properties, that this will prove impracticable; and thus, while every proper measure is pursued, you should make up your mind to disappointment.\"    1\n",
       "id09466  But the truth of a vitally important fact soon makes its way into the understanding of even the most stolid.                                                                                                     1\n",
       "id09462  Crouched in the bushes of that sandy cleft I felt reasonably safe, even though I knew the searchers would have to cross the track in front of me not much more than a hundred yards away.                        1\n",
       "id27970  It would have been well if he had concealed his sentiments, until he had come into possession of the power which would secure their practical development.                                                       1\n",
       "Length: 8392, dtype: int64"
      ]
     },
     "execution_count": 19,
     "metadata": {},
     "output_type": "execute_result"
    }
   ],
   "source": [
    "# Find unique value counts of each author\n",
    "test_df.value_counts()"
   ]
  },
  {
   "cell_type": "code",
   "execution_count": 3,
   "id": "80e85119",
   "metadata": {},
   "outputs": [
    {
     "data": {
      "text/html": [
       "<div>\n",
       "<style scoped>\n",
       "    .dataframe tbody tr th:only-of-type {\n",
       "        vertical-align: middle;\n",
       "    }\n",
       "\n",
       "    .dataframe tbody tr th {\n",
       "        vertical-align: top;\n",
       "    }\n",
       "\n",
       "    .dataframe thead th {\n",
       "        text-align: right;\n",
       "    }\n",
       "</style>\n",
       "<table border=\"1\" class=\"dataframe\">\n",
       "  <thead>\n",
       "    <tr style=\"text-align: right;\">\n",
       "      <th></th>\n",
       "      <th>id</th>\n",
       "      <th>text</th>\n",
       "      <th>author</th>\n",
       "    </tr>\n",
       "  </thead>\n",
       "  <tbody>\n",
       "    <tr>\n",
       "      <th>0</th>\n",
       "      <td>id26305</td>\n",
       "      <td>This process, however, afforded me no means of...</td>\n",
       "      <td>EAP</td>\n",
       "    </tr>\n",
       "    <tr>\n",
       "      <th>1</th>\n",
       "      <td>id17569</td>\n",
       "      <td>It never once occurred to me that the fumbling...</td>\n",
       "      <td>HPL</td>\n",
       "    </tr>\n",
       "    <tr>\n",
       "      <th>2</th>\n",
       "      <td>id11008</td>\n",
       "      <td>In his left hand was a gold snuff box, from wh...</td>\n",
       "      <td>EAP</td>\n",
       "    </tr>\n",
       "    <tr>\n",
       "      <th>3</th>\n",
       "      <td>id27763</td>\n",
       "      <td>How lovely is spring As we looked from Windsor...</td>\n",
       "      <td>MWS</td>\n",
       "    </tr>\n",
       "    <tr>\n",
       "      <th>4</th>\n",
       "      <td>id12958</td>\n",
       "      <td>Finding nothing else, not even gold, the Super...</td>\n",
       "      <td>HPL</td>\n",
       "    </tr>\n",
       "  </tbody>\n",
       "</table>\n",
       "</div>"
      ],
      "text/plain": [
       "        id                                               text author\n",
       "0  id26305  This process, however, afforded me no means of...    EAP\n",
       "1  id17569  It never once occurred to me that the fumbling...    HPL\n",
       "2  id11008  In his left hand was a gold snuff box, from wh...    EAP\n",
       "3  id27763  How lovely is spring As we looked from Windsor...    MWS\n",
       "4  id12958  Finding nothing else, not even gold, the Super...    HPL"
      ]
     },
     "execution_count": 3,
     "metadata": {},
     "output_type": "execute_result"
    }
   ],
   "source": [
    "# Reading train CSV file directly from Web, and store it in a pandas DataFrame:\n",
    "train_df = pd.read_csv('D:/Fauzan/Study PhD/Semester 1/Machine Learning/Homework/HW4/spooky-author-identification/spooky-author-identification/train/train.csv')\n",
    "\n",
    "# Print first 5 rows\n",
    "train_df.head()"
   ]
  },
  {
   "cell_type": "code",
   "execution_count": 4,
   "id": "fe5f9396",
   "metadata": {},
   "outputs": [
    {
     "data": {
      "text/plain": [
       "EAP    7900\n",
       "MWS    6044\n",
       "HPL    5635\n",
       "Name: author, dtype: int64"
      ]
     },
     "execution_count": 4,
     "metadata": {},
     "output_type": "execute_result"
    }
   ],
   "source": [
    "# Find unique value counts of each author\n",
    "train_df['author'].value_counts()"
   ]
  },
  {
   "cell_type": "code",
   "execution_count": 5,
   "id": "6633820b",
   "metadata": {},
   "outputs": [],
   "source": [
    "# Split into features and labels\n",
    "X_train = train_df['text']\n",
    "y_train = train_df['author']\n",
    "X_test = test_df['text']"
   ]
  },
  {
   "cell_type": "code",
   "execution_count": 6,
   "id": "b865a890",
   "metadata": {},
   "outputs": [
    {
     "data": {
      "text/plain": [
       "CountVectorizer(stop_words='english')"
      ]
     },
     "execution_count": 6,
     "metadata": {},
     "output_type": "execute_result"
    }
   ],
   "source": [
    "# Transform text data into vectors to run it through machine learning model\n",
    "vectorizer = CountVectorizer(stop_words='english')\n",
    "corpus = pd.concat([train_df['text'], test_df['text']])\n",
    "vectorizer.fit(corpus)"
   ]
  },
  {
   "cell_type": "code",
   "execution_count": 7,
   "id": "49c7379d",
   "metadata": {},
   "outputs": [],
   "source": [
    "# Randomly splitting the original dataset into training set and testing set\n",
    "X_tr, X_tt, y_tr, y_tt = train_test_split(X_train, y_train, test_size=0.3, random_state=2)\n",
    "\n",
    "X_tr_new = vectorizer.transform(X_tr)\n",
    "X_tt_new = vectorizer.transform(X_tt)"
   ]
  },
  {
   "cell_type": "markdown",
   "id": "4eba4fa4",
   "metadata": {},
   "source": [
    "### Experiment 1"
   ]
  },
  {
   "cell_type": "code",
   "execution_count": 8,
   "id": "6f4ea10b",
   "metadata": {},
   "outputs": [
    {
     "data": {
      "text/plain": [
       "DecisionTreeClassifier()"
      ]
     },
     "execution_count": 8,
     "metadata": {},
     "output_type": "execute_result"
    }
   ],
   "source": [
    "# \"my_decisiontree\" is instantiated as an \"object\" of DecisionTreeClassifier \"class\" \n",
    "dt = DecisionTreeClassifier()\n",
    "dt.fit(X_tr_new, y_tr)"
   ]
  },
  {
   "cell_type": "code",
   "execution_count": 9,
   "id": "3752ea9d",
   "metadata": {},
   "outputs": [
    {
     "name": "stdout",
     "output_type": "stream",
     "text": [
      "['EAP' 'EAP' 'HPL' ... 'EAP' 'HPL' 'EAP']\n"
     ]
    }
   ],
   "source": [
    "# Predicting the Binary Label:\n",
    "y_predict_dt = dt.predict(X_tt_new)\n",
    "print(y_predict_dt)"
   ]
  },
  {
   "cell_type": "code",
   "execution_count": 10,
   "id": "0da52566",
   "metadata": {},
   "outputs": [
    {
     "data": {
      "text/plain": [
       "array([[1., 0., 0.],\n",
       "       [1., 0., 0.],\n",
       "       [0., 1., 0.],\n",
       "       ...,\n",
       "       [1., 0., 0.],\n",
       "       [0., 1., 0.],\n",
       "       [1., 0., 0.]])"
      ]
     },
     "execution_count": 10,
     "metadata": {},
     "output_type": "execute_result"
    }
   ],
   "source": [
    "# Estimating the probability (likelihood) of Each Label: \n",
    "y_pred_proba_dt = dt.predict_proba(X_tt_new)\n",
    "y_pred_proba_dt"
   ]
  },
  {
   "cell_type": "code",
   "execution_count": 11,
   "id": "794effe8",
   "metadata": {},
   "outputs": [
    {
     "name": "stdout",
     "output_type": "stream",
     "text": [
      "Decision tree accuracy: 0.5902281239359891\n"
     ]
    }
   ],
   "source": [
    "# Find accuracy score\n",
    "score_dt = accuracy_score(y_tt, y_predict_dt)\n",
    "print(\"Decision tree accuracy:\", score_dt)"
   ]
  },
  {
   "cell_type": "markdown",
   "id": "f8be0e7f",
   "metadata": {},
   "source": [
    "### Experiment 2: Hyperparameter Tuning from GridSearch"
   ]
  },
  {
   "cell_type": "code",
   "execution_count": 12,
   "id": "8c3fc380",
   "metadata": {},
   "outputs": [
    {
     "name": "stdout",
     "output_type": "stream",
     "text": [
      "Fitting 5 folds for each of 168 candidates, totalling 840 fits\n",
      "{'criterion': 'entropy', 'max_depth': None, 'max_features': 0.4, 'splitter': 'random'}\n"
     ]
    }
   ],
   "source": [
    "# Creating a dictionary of parameters to use in GridSearchCV\n",
    "from sklearn.model_selection import GridSearchCV\n",
    "\n",
    "params = {\n",
    "    'criterion':  ['gini', 'entropy'],\n",
    "    'max_depth':  [None, 2, 4, 6, 8, 10],\n",
    "    'max_features': [None, 'sqrt', 'log2', 0.2, 0.4, 0.6, 0.8],\n",
    "    'splitter': ['best', 'random']\n",
    "}\n",
    "\n",
    "clf = GridSearchCV(\n",
    "    estimator=DecisionTreeClassifier(),\n",
    "    param_grid=params,\n",
    "    cv=5,\n",
    "    n_jobs=5,\n",
    "    verbose=1,\n",
    ")\n",
    "\n",
    "clf.fit(X_tr_new, y_tr)\n",
    "print(clf.best_params_)"
   ]
  },
  {
   "cell_type": "code",
   "execution_count": 13,
   "id": "62696681",
   "metadata": {},
   "outputs": [
    {
     "name": "stdout",
     "output_type": "stream",
     "text": [
      "['EAP' 'EAP' 'HPL' ... 'EAP' 'EAP' 'MWS']\n"
     ]
    }
   ],
   "source": [
    "# Predicting the Binary Label:\n",
    "y_predict_dt_gs = clf.predict(X_tt_new)\n",
    "print(y_predict_dt_gs)"
   ]
  },
  {
   "cell_type": "code",
   "execution_count": 14,
   "id": "0889e3a1",
   "metadata": {},
   "outputs": [
    {
     "name": "stdout",
     "output_type": "stream",
     "text": [
      "Decision tree accuracy: 0.5948246510044263\n"
     ]
    }
   ],
   "source": [
    "# Find accuracy score\n",
    "score_dt_gs1 = accuracy_score(y_tt, y_predict_dt_gs)\n",
    "print(\"Decision tree accuracy:\", score_dt_gs1)"
   ]
  },
  {
   "cell_type": "markdown",
   "id": "b5341773",
   "metadata": {},
   "source": [
    "### Experiment 3: Hyperparameter Tuning from GridSearch with Certain Parameters"
   ]
  },
  {
   "cell_type": "code",
   "execution_count": 15,
   "id": "f2808593",
   "metadata": {},
   "outputs": [
    {
     "data": {
      "text/plain": [
       "DecisionTreeClassifier(criterion='entropy', max_depth=4, max_features=0.6)"
      ]
     },
     "execution_count": 15,
     "metadata": {},
     "output_type": "execute_result"
    }
   ],
   "source": [
    "# Using the Parameters from GridSearchCV\n",
    "import pandas as pd\n",
    "from sklearn.model_selection import train_test_split\n",
    "from sklearn.tree import DecisionTreeClassifier\n",
    "from sklearn.metrics import accuracy_score\n",
    "\n",
    "clf_gs2 = DecisionTreeClassifier(max_depth=4, criterion='entropy', max_features=0.6, splitter='best')\n",
    "clf_gs2.fit(X_tr_new, y_tr)"
   ]
  },
  {
   "cell_type": "code",
   "execution_count": 16,
   "id": "1d808956",
   "metadata": {},
   "outputs": [
    {
     "name": "stdout",
     "output_type": "stream",
     "text": [
      "['EAP' 'EAP' 'HPL' ... 'EAP' 'EAP' 'MWS']\n"
     ]
    }
   ],
   "source": [
    "predictions = clf_gs2.predict(X_tt_new)\n",
    "print(y_predict_dt_gs)"
   ]
  },
  {
   "cell_type": "code",
   "execution_count": 17,
   "id": "37a92070",
   "metadata": {},
   "outputs": [
    {
     "name": "stdout",
     "output_type": "stream",
     "text": [
      "Decision tree accuracy: 0.4453524004085802\n"
     ]
    }
   ],
   "source": [
    "score_dt_gs2 = accuracy_score(y_tt, predictions)\n",
    "print(\"Decision tree accuracy:\", score_dt_gs2)"
   ]
  }
 ],
 "metadata": {
  "kernelspec": {
   "display_name": "Python 3 (ipykernel)",
   "language": "python",
   "name": "python3"
  },
  "language_info": {
   "codemirror_mode": {
    "name": "ipython",
    "version": 3
   },
   "file_extension": ".py",
   "mimetype": "text/x-python",
   "name": "python",
   "nbconvert_exporter": "python",
   "pygments_lexer": "ipython3",
   "version": "3.10.8"
  }
 },
 "nbformat": 4,
 "nbformat_minor": 5
}
